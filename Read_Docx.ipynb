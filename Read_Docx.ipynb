{
 "cells": [
  {
   "cell_type": "markdown",
   "id": "75708405-cff7-4e2a-a9d2-3af1c51a0720",
   "metadata": {},
   "source": [
    "## Import Library"
   ]
  },
  {
   "cell_type": "code",
   "execution_count": 1,
   "id": "7fc838a4-ef52-41ab-a1c8-cbfa8c0ef83a",
   "metadata": {},
   "outputs": [],
   "source": [
    "import zipfile\n",
    "from bs4 import BeautifulSoup\n",
    "import unicodedata\n",
    "import re\n",
    "import pandas as pd\n",
    "import numpy as np"
   ]
  },
  {
   "cell_type": "markdown",
   "id": "5b3c6100-7c0d-458c-a53b-48dc2cfc7d89",
   "metadata": {},
   "source": [
    "## Open and read docx"
   ]
  },
  {
   "cell_type": "code",
   "execution_count": 2,
   "id": "39ca4e38-df83-42c6-bbdb-f68c73ec472a",
   "metadata": {
    "tags": []
   },
   "outputs": [],
   "source": [
    "#open docx with zipfile\n",
    "doc_zip = zipfile.ZipFile('FORM A.docx')\n",
    "# doc_zip.namelist()"
   ]
  },
  {
   "cell_type": "code",
   "execution_count": 3,
   "id": "98dd69b4-d627-4570-bdb0-7ede49dcfd8b",
   "metadata": {},
   "outputs": [],
   "source": [
    "#read xml\n",
    "doc_xml = doc_zip.read('word/document.xml')"
   ]
  },
  {
   "cell_type": "code",
   "execution_count": 4,
   "id": "be9326d6-49fb-43f7-8d57-69b156c4fb24",
   "metadata": {},
   "outputs": [],
   "source": [
    "# parse xml \n",
    "soup_xml = BeautifulSoup(doc_xml, 'xml')\n",
    "# find body\n",
    "body = soup_xml.find('body')"
   ]
  },
  {
   "cell_type": "code",
   "execution_count": 5,
   "id": "c1fe4299-1e56-4281-9aea-f4986c726c40",
   "metadata": {
    "tags": []
   },
   "outputs": [],
   "source": [
    "# print all text\n",
    "for i, p in enumerate(body.find_all(['w:p','w:br'])):\n",
    "    string = unicodedata.normalize('NFKD', p.get_text())\n",
    "    # print(i,p.get_text())"
   ]
  },
  {
   "cell_type": "code",
   "execution_count": 6,
   "id": "9e5fe481-88eb-418a-9ae9-21495c1772b7",
   "metadata": {},
   "outputs": [
    {
     "data": {
      "text/plain": [
       "216"
      ]
     },
     "execution_count": 6,
     "metadata": {},
     "output_type": "execute_result"
    }
   ],
   "source": [
    "len(body.find_all(['w:p','w:br']))"
   ]
  },
  {
   "cell_type": "markdown",
   "id": "8e35fce9-03b8-4f4f-8acd-2a16d2821484",
   "metadata": {},
   "source": [
    "## Extract Questions"
   ]
  },
  {
   "cell_type": "code",
   "execution_count": 7,
   "id": "9b38b357-9d8d-4ed9-86a2-e82570fe22c0",
   "metadata": {},
   "outputs": [],
   "source": [
    "# construct empty dictionary 'questions'\n",
    "questions = {'question_line_nbr':[],\n",
    "      'question':[]}\n",
    "\n",
    "for i, p in enumerate(body.find_all('w:p')):\n",
    "    string = unicodedata.normalize('NFKD', p.get_text())\n",
    "\n",
    "    # if first 4 charactors in the paragraph has 'number dot space' save it to questions dict.\n",
    "    if bool(re.search('\\d+\\. ', string[:4])):\n",
    "        # print(i,string)\n",
    "        questions['question_line_nbr'].append(i)\n",
    "        questions['question'].append(string)"
   ]
  },
  {
   "cell_type": "code",
   "execution_count": 8,
   "id": "fdf761c9-906d-4890-836a-8b7f70e246aa",
   "metadata": {},
   "outputs": [],
   "source": [
    "# find the last line number and append to the questions dict.\n",
    "last_line_nbr = len(body.find_all(['w:p','w:br']))-1\n",
    "questions['question_line_nbr'].append(last_line_nbr)\n",
    "questions['question'].append(np.nan)"
   ]
  },
  {
   "cell_type": "code",
   "execution_count": 9,
   "id": "9989c8aa-cfd9-45c8-9458-f331d255653c",
   "metadata": {
    "tags": []
   },
   "outputs": [],
   "source": [
    "# convert to Dataframe\n",
    "df_q = pd.DataFrame(questions)"
   ]
  },
  {
   "cell_type": "markdown",
   "id": "8198a552-9f27-4b65-994a-c4fb03e41c30",
   "metadata": {},
   "source": [
    "## Extract Answers"
   ]
  },
  {
   "cell_type": "markdown",
   "id": "af5bfc57-d73c-494a-8ac4-313b617b73b4",
   "metadata": {},
   "source": [
    "### Get Answer A, B, C, and D,  and save them to Dictionary Answers 1, 2, 3, and 4"
   ]
  },
  {
   "cell_type": "code",
   "execution_count": 10,
   "id": "3d4eb028-e7ce-48fa-9fcc-4743f46997cd",
   "metadata": {},
   "outputs": [],
   "source": [
    "# construct empty dictionary 'answers1'\n",
    "answers1 = {'answer1_line_nbr':[],\n",
    "      'answer1':[]}\n",
    "\n",
    "for i, p in enumerate(body.find_all('w:p')):\n",
    "    string = unicodedata.normalize('NFKD', p.get_text())\n",
    "    \n",
    "    # if first 4 charactors in the paragraph has 'A dot space' save it to answers1 dict.\n",
    "    if bool(re.search('A\\. ', string[:4])):\n",
    "        # print(i,string)\n",
    "        answers1['answer1_line_nbr'].append(i)\n",
    "        answers1['answer1'].append(string)"
   ]
  },
  {
   "cell_type": "code",
   "execution_count": 11,
   "id": "fe98a586-caee-41d8-a963-ed9f52fd3a30",
   "metadata": {},
   "outputs": [],
   "source": [
    "# construct empty dictionary 'answers2'\n",
    "answers2 = {'answer2_line_nbr':[],\n",
    "      'answer2':[]}\n",
    "\n",
    "for i, p in enumerate(body.find_all('w:p')):\n",
    "    string = unicodedata.normalize('NFKD', p.get_text())\n",
    "    \n",
    "    # if first 4 charactors in the paragraph has 'B dot space' save it to answers2 dict.\n",
    "    if bool(re.search('B\\. ', string[:4])):\n",
    "        # print(i,string)\n",
    "        answers2['answer2_line_nbr'].append(i)\n",
    "        answers2['answer2'].append(string)"
   ]
  },
  {
   "cell_type": "code",
   "execution_count": 12,
   "id": "08840547-c435-4644-b6f4-e9da8a787d74",
   "metadata": {},
   "outputs": [],
   "source": [
    "# construct empty dictionary 'answers3'\n",
    "answers3 = {'answer3_line_nbr':[],\n",
    "      'answer3':[]}\n",
    "\n",
    "for i, p in enumerate(body.find_all('w:p')):\n",
    "    string = unicodedata.normalize('NFKD', p.get_text())\n",
    "    \n",
    "    # if first 4 charactors in the paragraph has 'C dot space' save it to answers3 dict.\n",
    "    if bool(re.search('C\\. ', string[:4])):\n",
    "        # print(i,string)\n",
    "        answers3['answer3_line_nbr'].append(i)\n",
    "        answers3['answer3'].append(string)"
   ]
  },
  {
   "cell_type": "code",
   "execution_count": 13,
   "id": "a640b0ef-eeac-499b-a6c0-8fe5c627a233",
   "metadata": {},
   "outputs": [],
   "source": [
    "# construct empty dictionary 'answers4'\n",
    "answers4 = {'answer4_line_nbr':[],\n",
    "      'answer4':[]}\n",
    "\n",
    "for i, p in enumerate(body.find_all('w:p')):\n",
    "    string = unicodedata.normalize('NFKD', p.get_text())\n",
    "    \n",
    "    # if first 4 charactors in the paragraph has 'D dot space' save it to answers4 dict.\n",
    "    if bool(re.search('D\\. ', string[:4])):\n",
    "        # print(i,string)\n",
    "        answers4['answer4_line_nbr'].append(i)\n",
    "        answers4['answer4'].append(string)"
   ]
  },
  {
   "cell_type": "code",
   "execution_count": 14,
   "id": "40a782a9-1f72-463d-ac3e-24f7fd5f4aa1",
   "metadata": {
    "tags": []
   },
   "outputs": [],
   "source": [
    "# convert to Dataframe\n",
    "df_a1 = pd.DataFrame(answers1)\n",
    "df_a2 = pd.DataFrame(answers2)\n",
    "df_a3 = pd.DataFrame(answers3)\n",
    "df_a4 = pd.DataFrame(answers4)"
   ]
  },
  {
   "cell_type": "markdown",
   "id": "57fce39b-4440-494c-8d09-049cb5adcba6",
   "metadata": {},
   "source": [
    "## Combine Questions and Answers"
   ]
  },
  {
   "cell_type": "code",
   "execution_count": 15,
   "id": "697f3a55-b535-4dc4-8c96-d5848c6c51b3",
   "metadata": {},
   "outputs": [
    {
     "data": {
      "text/plain": [
       "26"
      ]
     },
     "execution_count": 15,
     "metadata": {},
     "output_type": "execute_result"
    }
   ],
   "source": [
    "df_a1[df_a1['answer1_line_nbr'].between(20,31)]['answer1_line_nbr'].tolist()[0]"
   ]
  },
  {
   "cell_type": "code",
   "execution_count": 16,
   "id": "b1104604-dab0-45d2-8990-4ab266da22be",
   "metadata": {},
   "outputs": [],
   "source": [
    "# find line number of answer between line number of questions\n",
    "for i in range(len(df_q)-1):\n",
    "    start=df_q['question_line_nbr'][i]\n",
    "    end=df_q['question_line_nbr'][i+1]\n",
    "    \n",
    "    \n",
    "    # return pd series containing answer1, and answer1_line_number (Original answer A) for question \n",
    "    answer1_ln_nbr = df_a1[df_a1['answer1_line_nbr'].between(start,end)]['answer1_line_nbr']\n",
    "    answer1 = df_a1[df_a1['answer1_line_nbr'].between(start,end)]['answer1']\n",
    "    \n",
    "    # return pd series containing answer2, and answer2_line_number (Original answer B) for question    \n",
    "    answer2_ln_nbr = df_a2[df_a2['answer2_line_nbr'].between(start,end)]['answer2_line_nbr']\n",
    "    answer2 = df_a2[df_a2['answer2_line_nbr'].between(start,end)]['answer2']\n",
    "    \n",
    "    # return pd series containing answer3, and answer3_line_number (Original answer C) for question    \n",
    "    answer3_ln_nbr = df_a3[df_a3['answer3_line_nbr'].between(start,end)]['answer3_line_nbr']\n",
    "    answer3 = df_a3[df_a3['answer3_line_nbr'].between(start,end)]['answer3']\n",
    "\n",
    "    # return pd series containing answer4, and answer4_line_number (Original answer D) for question    \n",
    "    answer4_ln_nbr = df_a4[df_a4['answer4_line_nbr'].between(start,end)]['answer4_line_nbr']\n",
    "    answer4 = df_a4[df_a4['answer4_line_nbr'].between(start,end)]['answer4']\n",
    "\n",
    "    \n",
    "    # if there is answer1 line number and answer1 for the question append to line number and answer column\n",
    "    if answer1_ln_nbr.empty==False:\n",
    "        df_q.loc[i,'answer1_line_nbr']=answer1_ln_nbr.tolist()[0]\n",
    "    if answer1.empty==False:\n",
    "        df_q.loc[i,'answer1']=answer1.tolist()[0]       \n",
    "        \n",
    "    # if there is answer2 line number and answer2 for the question append to line number and answer column        \n",
    "    if answer2_ln_nbr.empty==False:\n",
    "        df_q.loc[i,'answer2_line_nbr']=answer2_ln_nbr.tolist()[0]        \n",
    "    if answer2.empty==False:\n",
    "        df_q.loc[i,'answer2']=answer2.tolist()[0]\n",
    "        \n",
    "    # if there is answer3 line number and answer3 for the question append to line number and answer column        \n",
    "    if answer3_ln_nbr.empty==False:\n",
    "        df_q.loc[i,'answer3_line_nbr']=answer3_ln_nbr.tolist()[0]    \n",
    "    if answer3.empty==False:\n",
    "        df_q.loc[i,'answer3']=answer3.tolist()[0]\n",
    "       \n",
    "    # if there is answer4 line number and answer4 for the question append to line number and answer column        \n",
    "    if answer4_ln_nbr.empty==False:\n",
    "        df_q.loc[i,'answer4_line_nbr']=answer4_ln_nbr.tolist()[0]       \n",
    "    if answer4.empty==False:\n",
    "        df_q.loc[i,'answer4']=answer4.tolist()[0]"
   ]
  },
  {
   "cell_type": "code",
   "execution_count": 19,
   "id": "dd062e78-b9fd-42aa-99df-9c6d822b5aca",
   "metadata": {},
   "outputs": [],
   "source": [
    " df_form_a = df_q.dropna()"
   ]
  },
  {
   "cell_type": "code",
   "execution_count": 20,
   "id": "988b32be-4b87-4b3b-ad48-7a3c155f5a3b",
   "metadata": {},
   "outputs": [],
   "source": [
    "df_form_a.to_csv('FormA.csv',index=False)"
   ]
  },
  {
   "cell_type": "code",
   "execution_count": null,
   "id": "09ec2bf9-7a5e-4983-ac39-9ab4fa84bb45",
   "metadata": {},
   "outputs": [],
   "source": []
  }
 ],
 "metadata": {
  "kernelspec": {
   "display_name": "Python 3 (ipykernel)",
   "language": "python",
   "name": "python3"
  },
  "language_info": {
   "codemirror_mode": {
    "name": "ipython",
    "version": 3
   },
   "file_extension": ".py",
   "mimetype": "text/x-python",
   "name": "python",
   "nbconvert_exporter": "python",
   "pygments_lexer": "ipython3",
   "version": "3.9.13"
  }
 },
 "nbformat": 4,
 "nbformat_minor": 5
}
