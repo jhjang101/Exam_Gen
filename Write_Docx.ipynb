{
 "cells": [
  {
   "cell_type": "markdown",
   "id": "75708405-cff7-4e2a-a9d2-3af1c51a0720",
   "metadata": {
    "tags": []
   },
   "source": [
    "## Import Library"
   ]
  },
  {
   "cell_type": "code",
   "execution_count": 1,
   "id": "7fc838a4-ef52-41ab-a1c8-cbfa8c0ef83a",
   "metadata": {},
   "outputs": [],
   "source": [
    "from zipfile import ZipFile\n",
    "from bs4 import BeautifulSoup\n",
    "import unicodedata\n",
    "import re\n",
    "import pandas as pd\n",
    "import numpy as np"
   ]
  },
  {
   "cell_type": "markdown",
   "id": "e379fc67-fba1-4873-89a1-00d0160f6d84",
   "metadata": {},
   "source": [
    "## Open Form B and read docx"
   ]
  },
  {
   "cell_type": "code",
   "execution_count": 2,
   "id": "3ca55271-2b2f-4a92-a506-bf291b6d5266",
   "metadata": {},
   "outputs": [],
   "source": [
    "#open docx with zipfile\n",
    "with ZipFile('FORM B.docx', 'r') as zip:\n",
    "    doc_xml = zip.read('word/document.xml')"
   ]
  },
  {
   "cell_type": "code",
   "execution_count": null,
   "id": "44adeaca-205a-428a-a1c7-ed06c7476930",
   "metadata": {},
   "outputs": [],
   "source": []
  },
  {
   "cell_type": "code",
   "execution_count": null,
   "id": "ee5283e0-e64e-4822-b678-433a7d8b6cd7",
   "metadata": {},
   "outputs": [],
   "source": []
  },
  {
   "cell_type": "code",
   "execution_count": null,
   "id": "8d93b862-b131-4fea-aaa4-5d265469c101",
   "metadata": {},
   "outputs": [],
   "source": []
  },
  {
   "cell_type": "code",
   "execution_count": null,
   "id": "f39b6661-4b18-4fa3-a2e7-55adb280e3a1",
   "metadata": {},
   "outputs": [],
   "source": []
  },
  {
   "cell_type": "raw",
   "id": "7ace3703-b071-40f4-aa90-ace76cc8de51",
   "metadata": {},
   "source": [
    "#open docx with zipfile\n",
    "doc_zip = ZipFile('FORM B.docx')\n",
    "# doc_zip.namelist()"
   ]
  },
  {
   "cell_type": "raw",
   "id": "1448d1a7-ce0a-4919-a73e-0c918847a14b",
   "metadata": {},
   "source": [
    "#read xml\n",
    "doc_xml = doc_zip.read('word/document.xml')"
   ]
  },
  {
   "cell_type": "code",
   "execution_count": 3,
   "id": "2aa6b63c-eb72-4d60-abe5-bdf7a93fb834",
   "metadata": {},
   "outputs": [],
   "source": [
    "# parse xml \n",
    "soup_xml = BeautifulSoup(doc_xml, 'xml')"
   ]
  },
  {
   "cell_type": "code",
   "execution_count": 4,
   "id": "957a40f1-3247-4a6d-a2f5-ff0c67d1e8f1",
   "metadata": {
    "tags": []
   },
   "outputs": [],
   "source": [
    "# find body\n",
    "body = soup_xml.find('body')"
   ]
  },
  {
   "cell_type": "code",
   "execution_count": 5,
   "id": "52ed3d98-f9a5-44ef-9cd2-4e984cf2014e",
   "metadata": {},
   "outputs": [],
   "source": [
    "# list of lines and make a copy\n",
    "lines = body.find_all(['w:p'])\n",
    "lines_new = lines.copy()"
   ]
  },
  {
   "cell_type": "markdown",
   "id": "42ef6d30-38d9-44a9-b018-9a5776d0f621",
   "metadata": {},
   "source": [
    "## Open original and shuffled data"
   ]
  },
  {
   "cell_type": "code",
   "execution_count": 6,
   "id": "76bfacd9-a519-43a3-9838-ed88da71d22b",
   "metadata": {},
   "outputs": [],
   "source": [
    "df = pd.read_csv('Questions_to_shuffle.csv')\n",
    "df_new = pd.read_csv('shuffled.csv')"
   ]
  },
  {
   "cell_type": "markdown",
   "id": "8f7c20b3-1728-4dfe-bbde-f333e541b280",
   "metadata": {},
   "source": [
    "## Construct lines_new list with new answers "
   ]
  },
  {
   "cell_type": "code",
   "execution_count": 7,
   "id": "76132f0f-3874-487a-9d7e-29923b4983fb",
   "metadata": {},
   "outputs": [],
   "source": [
    "# 1. get the new answer from [lines] and replace it to [lines_new].\n",
    "# 2. replace A. B. C. D. to correct order.\n",
    "\n",
    "def linegen(column_name, ABCD):\n",
    "    # Get list of original and new answer line\n",
    "    p_answers = df[column_name].astype(int).tolist()\n",
    "    p_answers_new = df_new[column_name].tolist()\n",
    "    \n",
    "    # Replace answer to new answer\n",
    "    for i, n in enumerate(p_answers_new):\n",
    "        lines_new[p_answers[i]] = lines[n]\n",
    "    \n",
    "    ### Replace A. B. C. D. to ABCD\n",
    "    for n in p_answers:\n",
    "        string = unicodedata.normalize('NFKD', lines_new[n].find('w:t').get_text())\n",
    "        # print(unicodedata.normalize('NFKD', lines_new[n].get_text()))\n",
    "        string_new = ABCD + string[3:]\n",
    "    \n",
    "        lines_new[n].find('w:t').string = string_new\n",
    "        # print(unicodedata.normalize('NFKD', lines_new[n].get_text()))\n",
    "    \n",
    "    print('Successfully replaced lines_new with',column_name,'and replaced to', ABCD)"
   ]
  },
  {
   "cell_type": "markdown",
   "id": "f401dc79-688f-4a20-8794-cdb16a2fbd92",
   "metadata": {},
   "source": [
    "### Reconstruct lines_new "
   ]
  },
  {
   "cell_type": "code",
   "execution_count": 8,
   "id": "1e4d2788-8355-42ae-b77a-cd345d2602c6",
   "metadata": {},
   "outputs": [
    {
     "name": "stdout",
     "output_type": "stream",
     "text": [
      "Successfully replaced lines_new with answer1_line_nbr and replaced to A. \n",
      "Successfully replaced lines_new with answer2_line_nbr and replaced to B. \n",
      "Successfully replaced lines_new with answer3_line_nbr and replaced to C. \n",
      "Successfully replaced lines_new with answer4_line_nbr and replaced to D. \n"
     ]
    }
   ],
   "source": [
    "linegen('answer1_line_nbr', 'A. ')\n",
    "linegen('answer2_line_nbr', 'B. ')\n",
    "linegen('answer3_line_nbr', 'C. ')\n",
    "linegen('answer4_line_nbr', 'D. ')"
   ]
  },
  {
   "cell_type": "markdown",
   "id": "a4abfb34-f376-4811-b976-ec66dc58c56c",
   "metadata": {},
   "source": [
    "## Construct new_body"
   ]
  },
  {
   "cell_type": "code",
   "execution_count": 9,
   "id": "79d27d5b-f744-4a61-a257-dd9e49fac732",
   "metadata": {
    "tags": []
   },
   "outputs": [
    {
     "data": {
      "text/plain": [
       "'<?xml version=\"1.0\" encoding=\"utf-8\"?>\\n<w:document mc:Ignorable=\"w14 w15 w16se w16cid w16 w16cex w16sdtdh wp14\" xmlns:aink=\"http://schemas.microsoft.com/office/drawing/2016/ink\" xmlns:am3d=\"http://schemas.microsoft.com/office/drawing/2017/model3d\" xmlns:cx=\"http://schemas.microsoft.com/office/drawing/2014/chartex\" xmlns:cx1=\"http://schemas.microsoft.com/office/drawing/2015/9/8/chartex\" xmlns:cx2=\"http://schemas.microsoft.com/office/drawing/2015/10/21/chartex\" xmlns:cx3=\"http://schemas.microsoft.com/office/drawing/2016/5/9/chartex\" xmlns:cx4=\"http://schemas.microsoft.com/office/drawing/2016/5/10/chartex\" xmlns:cx5=\"http://schemas.microsoft.com/office/drawing/2016/5/11/chartex\" xmlns:cx6=\"http://schemas.microsoft.com/office/drawing/2016/5/12/chartex\" xmlns:cx7=\"http://schemas.microsoft.com/office/drawing/2016/5/13/chartex\" xmlns:cx8=\"http://schemas.microsoft.com/office/drawing/2016/5/14/chartex\" xmlns:m=\"http://schemas.openxmlformats.org/officeDocument/2006/math\" xmlns:mc=\"http://schemas.openxmlformats.org/markup-compatibility/2006\" xmlns:o=\"urn:schemas-microsoft-com:office:office\" xmlns:oel=\"http://schemas.microsoft.com/office/2019/extlst\" xmlns:r=\"http://schemas.openxmlformats.org/officeDocument/2006/relationships\" xmlns:v=\"urn:schemas-microsoft-com:vml\" xmlns:w=\"http://schemas.openxmlformats.org/wordprocessingml/2006/main\" xmlns:w10=\"urn:schemas-microsoft-com:office:word\" xmlns:w14=\"http://schemas.microsoft.com/office/word/2010/wordml\" xmlns:w15=\"http://schemas.microsoft.com/office/word/2012/wordml\" xmlns:w16=\"http://schemas.microsoft.com/office/word/2018/wordml\" xmlns:w16cex=\"http://schemas.microsoft.com/office/word/2018/wordml/cex\" xmlns:w16cid=\"http://schemas.microsoft.com/office/word/2016/wordml/cid\" xmlns:w16sdtdh=\"http://schemas.microsoft.com/office/word/2020/wordml/sdtdatahash\" xmlns:w16se=\"http://schemas.microsoft.com/office/word/2015/wordml/symex\" xmlns:wne=\"http://schemas.microsoft.com/office/word/2006/wordml\" xmlns:wp=\"http://schemas.openxmlformats.org/drawingml/2006/wordprocessingDrawing\" xmlns:wp14=\"http://schemas.microsoft.com/office/word/2010/wordprocessingDrawing\" xmlns:wpc=\"http://schemas.microsoft.com/office/word/2010/wordprocessingCanvas\" xmlns:wpg=\"http://schemas.microsoft.com/office/word/2010/wordprocessingGroup\" xmlns:wpi=\"http://schemas.microsoft.com/office/word/2010/wordprocessingInk\" xmlns:wps=\"http://schemas.microsoft.com/office/word/2010/wordprocessingShape\"><w:body>'"
      ]
     },
     "execution_count": 9,
     "metadata": {},
     "output_type": "execute_result"
    }
   ],
   "source": [
    "n_head = str(soup_xml).find('<w:body>')+8\n",
    "head = str(soup_xml)[:n_head]\n",
    "head"
   ]
  },
  {
   "cell_type": "code",
   "execution_count": 10,
   "id": "76a3e292-530f-4db1-952f-59997e6dc578",
   "metadata": {},
   "outputs": [
    {
     "data": {
      "text/plain": [
       "'</w:body></w:document>'"
      ]
     },
     "execution_count": 10,
     "metadata": {},
     "output_type": "execute_result"
    }
   ],
   "source": [
    "n_tail = str(soup_xml).find('</w:body>')\n",
    "tail = str(soup_xml)[n_tail:]\n",
    "tail"
   ]
  },
  {
   "cell_type": "code",
   "execution_count": 11,
   "id": "d1071444-1606-4dea-a75c-c648456ed972",
   "metadata": {},
   "outputs": [],
   "source": [
    "body_new = ''.join(str(l) for l in lines_new)"
   ]
  },
  {
   "cell_type": "code",
   "execution_count": 12,
   "id": "e57882ca-8cca-40e4-9796-a8a1299a10c4",
   "metadata": {},
   "outputs": [],
   "source": [
    "soup_new = head + body_new + tail"
   ]
  },
  {
   "cell_type": "code",
   "execution_count": null,
   "id": "d8235e1f-e3fd-42bd-bb0b-3b23bb2133c1",
   "metadata": {},
   "outputs": [],
   "source": []
  },
  {
   "cell_type": "code",
   "execution_count": null,
   "id": "37d64292-7357-4777-bfec-f9b518a56fb1",
   "metadata": {},
   "outputs": [],
   "source": []
  },
  {
   "cell_type": "code",
   "execution_count": 39,
   "id": "723965fe-e1e3-471d-9000-1a70809edb74",
   "metadata": {},
   "outputs": [],
   "source": [
    "# create a temp copy of the archive without filename            \n",
    "with ZipFile('FORM C.docx', 'r') as zipin:\n",
    "    with ZipFile('FORM D.docx', 'w') as zipout:\n",
    "        zipout.comment = zipin.comment # preserve the comment\n",
    "        for item in zipin.infolist():\n",
    "            if item.filename != 'word/document.xml':\n",
    "                    zipout.writestr(item, zipin.read(item.filename))"
   ]
  },
  {
   "cell_type": "code",
   "execution_count": 40,
   "id": "7e9a947a-6b5b-491e-91eb-7b756cfd8e7f",
   "metadata": {},
   "outputs": [],
   "source": [
    "with ZipFile('FORM D.docx', 'a') as newzip:\n",
    "    newzip.writestr('word/document.xml', soup_new)"
   ]
  },
  {
   "cell_type": "code",
   "execution_count": null,
   "id": "b218a1f3-5bd8-4483-b92a-21c51cb8990d",
   "metadata": {},
   "outputs": [],
   "source": []
  },
  {
   "cell_type": "code",
   "execution_count": null,
   "id": "11542612-dff9-4102-8221-dd657c70a545",
   "metadata": {},
   "outputs": [],
   "source": []
  },
  {
   "cell_type": "code",
   "execution_count": null,
   "id": "e50acd35-97fd-4cb4-b1c2-bf16b95c2a12",
   "metadata": {},
   "outputs": [],
   "source": []
  }
 ],
 "metadata": {
  "kernelspec": {
   "display_name": "Python 3 (ipykernel)",
   "language": "python",
   "name": "python3"
  },
  "language_info": {
   "codemirror_mode": {
    "name": "ipython",
    "version": 3
   },
   "file_extension": ".py",
   "mimetype": "text/x-python",
   "name": "python",
   "nbconvert_exporter": "python",
   "pygments_lexer": "ipython3",
   "version": "3.9.13"
  }
 },
 "nbformat": 4,
 "nbformat_minor": 5
}
