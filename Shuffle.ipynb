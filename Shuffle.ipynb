{
 "cells": [
  {
   "cell_type": "code",
   "execution_count": 3,
   "id": "52e4842f-e472-4e95-a375-2cdac9d50ab4",
   "metadata": {},
   "outputs": [],
   "source": [
    "import pandas as pd\n",
    "import random"
   ]
  },
  {
   "cell_type": "code",
   "execution_count": 4,
   "id": "3daf4b86-71a3-4dfe-b2e3-e1d2b8c46d50",
   "metadata": {},
   "outputs": [],
   "source": [
    "df = pd.read_csv('Questions_to_shuffle.csv')"
   ]
  },
  {
   "cell_type": "code",
   "execution_count": 5,
   "id": "ba599b7d-ea21-4930-b766-a7b702a888f0",
   "metadata": {},
   "outputs": [
    {
     "data": {
      "text/html": [
       "<div>\n",
       "<style scoped>\n",
       "    .dataframe tbody tr th:only-of-type {\n",
       "        vertical-align: middle;\n",
       "    }\n",
       "\n",
       "    .dataframe tbody tr th {\n",
       "        vertical-align: top;\n",
       "    }\n",
       "\n",
       "    .dataframe thead th {\n",
       "        text-align: right;\n",
       "    }\n",
       "</style>\n",
       "<table border=\"1\" class=\"dataframe\">\n",
       "  <thead>\n",
       "    <tr style=\"text-align: right;\">\n",
       "      <th></th>\n",
       "      <th>question_line_nbr</th>\n",
       "      <th>question</th>\n",
       "      <th>answer1_line_nbr</th>\n",
       "      <th>answer1</th>\n",
       "      <th>answer2_line_nbr</th>\n",
       "      <th>answer2</th>\n",
       "      <th>answer3_line_nbr</th>\n",
       "      <th>answer3</th>\n",
       "      <th>answer4_line_nbr</th>\n",
       "      <th>answer4</th>\n",
       "      <th>keys</th>\n",
       "    </tr>\n",
       "  </thead>\n",
       "  <tbody>\n",
       "    <tr>\n",
       "      <th>0</th>\n",
       "      <td>20</td>\n",
       "      <td>1. A list of four physical quantities is</td>\n",
       "      <td>26.0</td>\n",
       "      <td>A.  1</td>\n",
       "      <td>27.0</td>\n",
       "      <td>B.  2</td>\n",
       "      <td>28.0</td>\n",
       "      <td>C.  3</td>\n",
       "      <td>29.0</td>\n",
       "      <td>D.  4</td>\n",
       "      <td>C</td>\n",
       "    </tr>\n",
       "    <tr>\n",
       "      <th>1</th>\n",
       "      <td>31</td>\n",
       "      <td>2.  The uncertainty in reading a laboratory th...</td>\n",
       "      <td>32.0</td>\n",
       "      <td>A.  2.5 %</td>\n",
       "      <td>33.0</td>\n",
       "      <td>B.  5 %</td>\n",
       "      <td>34.0</td>\n",
       "      <td>C.  7.5 %</td>\n",
       "      <td>35.0</td>\n",
       "      <td>D.  10 %</td>\n",
       "      <td>D</td>\n",
       "    </tr>\n",
       "    <tr>\n",
       "      <th>2</th>\n",
       "      <td>54</td>\n",
       "      <td>7.  A car accelerates uniformly from rest to a...</td>\n",
       "      <td>56.0</td>\n",
       "      <td>A.  v t2</td>\n",
       "      <td>57.0</td>\n",
       "      <td>B.  12vt2-t1+v t1</td>\n",
       "      <td>58.0</td>\n",
       "      <td>C.  12vt2+t1</td>\n",
       "      <td>59.0</td>\n",
       "      <td>D.  12v t1+vt2-t1</td>\n",
       "      <td>D</td>\n",
       "    </tr>\n",
       "    <tr>\n",
       "      <th>3</th>\n",
       "      <td>60</td>\n",
       "      <td>8.  The graph below shows how velocity v varie...</td>\n",
       "      <td>63.0</td>\n",
       "      <td>A. displacement.</td>\n",
       "      <td>64.0</td>\n",
       "      <td>B. final velocity.</td>\n",
       "      <td>65.0</td>\n",
       "      <td>C. change in velocity.</td>\n",
       "      <td>66.0</td>\n",
       "      <td>D. acceleration.</td>\n",
       "      <td>A</td>\n",
       "    </tr>\n",
       "    <tr>\n",
       "      <th>4</th>\n",
       "      <td>68</td>\n",
       "      <td>9.  A boy throws a ball horizontally at a spee...</td>\n",
       "      <td>70.0</td>\n",
       "      <td>A. 40 m</td>\n",
       "      <td>71.0</td>\n",
       "      <td>B. 60 m</td>\n",
       "      <td>72.0</td>\n",
       "      <td>C. 80 m</td>\n",
       "      <td>73.0</td>\n",
       "      <td>D. 320 m</td>\n",
       "      <td>C</td>\n",
       "    </tr>\n",
       "    <tr>\n",
       "      <th>5</th>\n",
       "      <td>86</td>\n",
       "      <td>12. An object is pushed from rest by a constan...</td>\n",
       "      <td>88.0</td>\n",
       "      <td>A.  2 kg</td>\n",
       "      <td>89.0</td>\n",
       "      <td>B.  4 kg</td>\n",
       "      <td>90.0</td>\n",
       "      <td>C.  40 kg</td>\n",
       "      <td>91.0</td>\n",
       "      <td>D.  200 kg</td>\n",
       "      <td>B</td>\n",
       "    </tr>\n",
       "    <tr>\n",
       "      <th>6</th>\n",
       "      <td>98</td>\n",
       "      <td>14. Object A of mass m is lifted through a hei...</td>\n",
       "      <td>101.0</td>\n",
       "      <td>A. 1</td>\n",
       "      <td>102.0</td>\n",
       "      <td>B. 2</td>\n",
       "      <td>103.0</td>\n",
       "      <td>C. 4</td>\n",
       "      <td>104.0</td>\n",
       "      <td>D. 8</td>\n",
       "      <td>D</td>\n",
       "    </tr>\n",
       "    <tr>\n",
       "      <th>7</th>\n",
       "      <td>107</td>\n",
       "      <td>15. Two trolleys of equal mass travel in oppos...</td>\n",
       "      <td>114.0</td>\n",
       "      <td>A.  1 m s−1</td>\n",
       "      <td>115.0</td>\n",
       "      <td>B.  2 m s−1</td>\n",
       "      <td>116.0</td>\n",
       "      <td>C.  5 m s−1</td>\n",
       "      <td>117.0</td>\n",
       "      <td>D.  10 m s−1</td>\n",
       "      <td>A</td>\n",
       "    </tr>\n",
       "    <tr>\n",
       "      <th>8</th>\n",
       "      <td>120</td>\n",
       "      <td>16. A mass m of a liquid of specific heat capa...</td>\n",
       "      <td>121.0</td>\n",
       "      <td>A.  mcP</td>\n",
       "      <td>122.0</td>\n",
       "      <td>B.  273+mcP</td>\n",
       "      <td>123.0</td>\n",
       "      <td>C.  Pmc</td>\n",
       "      <td>124.0</td>\n",
       "      <td>D.  273+Pmc</td>\n",
       "      <td>C</td>\n",
       "    </tr>\n",
       "    <tr>\n",
       "      <th>9</th>\n",
       "      <td>126</td>\n",
       "      <td>17. When 40 kJ of energy is transferred to a q...</td>\n",
       "      <td>128.0</td>\n",
       "      <td>A. 15 K−1</td>\n",
       "      <td>129.0</td>\n",
       "      <td>B. 15 K</td>\n",
       "      <td>130.0</td>\n",
       "      <td>C. 300 K−1</td>\n",
       "      <td>131.0</td>\n",
       "      <td>D. 300 K</td>\n",
       "      <td>D</td>\n",
       "    </tr>\n",
       "    <tr>\n",
       "      <th>10</th>\n",
       "      <td>133</td>\n",
       "      <td>18. Energy is supplied at a constant rate to a...</td>\n",
       "      <td>136.0</td>\n",
       "      <td>A. cs &gt; cg &gt; cl</td>\n",
       "      <td>137.0</td>\n",
       "      <td>B. cl &gt; cs &gt; cg</td>\n",
       "      <td>138.0</td>\n",
       "      <td>C. cl &gt; cg &gt; cs</td>\n",
       "      <td>139.0</td>\n",
       "      <td>D. cg &gt; cs &gt; cl</td>\n",
       "      <td>D</td>\n",
       "    </tr>\n",
       "    <tr>\n",
       "      <th>11</th>\n",
       "      <td>144</td>\n",
       "      <td>20. Two identical containers X and Y each cont...</td>\n",
       "      <td>147.0</td>\n",
       "      <td>A.   16</td>\n",
       "      <td>148.0</td>\n",
       "      <td>B.   23</td>\n",
       "      <td>149.0</td>\n",
       "      <td>C.   32</td>\n",
       "      <td>150.0</td>\n",
       "      <td>D.   6</td>\n",
       "      <td>C</td>\n",
       "    </tr>\n",
       "    <tr>\n",
       "      <th>12</th>\n",
       "      <td>163</td>\n",
       "      <td>23. A small ball of weight W is attached to a ...</td>\n",
       "      <td>167.0</td>\n",
       "      <td>A.  W R2</td>\n",
       "      <td>168.0</td>\n",
       "      <td>B.  W R</td>\n",
       "      <td>169.0</td>\n",
       "      <td>C.  2 W R</td>\n",
       "      <td>170.0</td>\n",
       "      <td>D.  5W R2</td>\n",
       "      <td>D</td>\n",
       "    </tr>\n",
       "    <tr>\n",
       "      <th>13</th>\n",
       "      <td>172</td>\n",
       "      <td>24. The gravitational field strength at the su...</td>\n",
       "      <td>173.0</td>\n",
       "      <td>A.  g2</td>\n",
       "      <td>174.0</td>\n",
       "      <td>B.  g4</td>\n",
       "      <td>175.0</td>\n",
       "      <td>C.  2g</td>\n",
       "      <td>176.0</td>\n",
       "      <td>D.  4g</td>\n",
       "      <td>C</td>\n",
       "    </tr>\n",
       "    <tr>\n",
       "      <th>14</th>\n",
       "      <td>177</td>\n",
       "      <td>25. The centre of the Earth is separated from ...</td>\n",
       "      <td>180.0</td>\n",
       "      <td>A.  D-X2X2</td>\n",
       "      <td>181.0</td>\n",
       "      <td>B.  D-XX</td>\n",
       "      <td>182.0</td>\n",
       "      <td>C.  X2D-X2</td>\n",
       "      <td>183.0</td>\n",
       "      <td>D.  XD-X</td>\n",
       "      <td>C</td>\n",
       "    </tr>\n",
       "  </tbody>\n",
       "</table>\n",
       "</div>"
      ],
      "text/plain": [
       "    question_line_nbr                                           question  \\\n",
       "0                  20           1. A list of four physical quantities is   \n",
       "1                  31  2.  The uncertainty in reading a laboratory th...   \n",
       "2                  54  7.  A car accelerates uniformly from rest to a...   \n",
       "3                  60  8.  The graph below shows how velocity v varie...   \n",
       "4                  68  9.  A boy throws a ball horizontally at a spee...   \n",
       "5                  86  12. An object is pushed from rest by a constan...   \n",
       "6                  98  14. Object A of mass m is lifted through a hei...   \n",
       "7                 107  15. Two trolleys of equal mass travel in oppos...   \n",
       "8                 120  16. A mass m of a liquid of specific heat capa...   \n",
       "9                 126  17. When 40 kJ of energy is transferred to a q...   \n",
       "10                133  18. Energy is supplied at a constant rate to a...   \n",
       "11                144  20. Two identical containers X and Y each cont...   \n",
       "12                163  23. A small ball of weight W is attached to a ...   \n",
       "13                172  24. The gravitational field strength at the su...   \n",
       "14                177  25. The centre of the Earth is separated from ...   \n",
       "\n",
       "    answer1_line_nbr           answer1  answer2_line_nbr             answer2  \\\n",
       "0               26.0             A.  1              27.0               B.  2   \n",
       "1               32.0         A.  2.5 %              33.0             B.  5 %   \n",
       "2               56.0          A.  v t2              57.0   B.  12vt2-t1+v t1   \n",
       "3               63.0  A. displacement.              64.0  B. final velocity.   \n",
       "4               70.0           A. 40 m              71.0             B. 60 m   \n",
       "5               88.0          A.  2 kg              89.0            B.  4 kg   \n",
       "6              101.0              A. 1             102.0                B. 2   \n",
       "7              114.0       A.  1 m s−1             115.0         B.  2 m s−1   \n",
       "8              121.0           A.  mcP             122.0         B.  273+mcP   \n",
       "9              128.0         A. 15 K−1             129.0             B. 15 K   \n",
       "10             136.0  A. cs > cg > cl              137.0    B. cl > cs > cg    \n",
       "11             147.0           A.   16             148.0             B.   23   \n",
       "12             167.0          A.  W R2             168.0             B.  W R   \n",
       "13             173.0            A.  g2             174.0              B.  g4   \n",
       "14             180.0        A.  D-X2X2             181.0            B.  D-XX   \n",
       "\n",
       "    answer3_line_nbr                 answer3  answer4_line_nbr  \\\n",
       "0               28.0                   C.  3              29.0   \n",
       "1               34.0               C.  7.5 %              35.0   \n",
       "2               58.0            C.  12vt2+t1              59.0   \n",
       "3               65.0  C. change in velocity.              66.0   \n",
       "4               72.0                 C. 80 m              73.0   \n",
       "5               90.0               C.  40 kg              91.0   \n",
       "6              103.0                    C. 4             104.0   \n",
       "7              116.0             C.  5 m s−1             117.0   \n",
       "8              123.0                 C.  Pmc             124.0   \n",
       "9              130.0              C. 300 K−1             131.0   \n",
       "10             138.0        C. cl > cg > cs              139.0   \n",
       "11             149.0                 C.   32             150.0   \n",
       "12             169.0               C.  2 W R             170.0   \n",
       "13             175.0                  C.  2g             176.0   \n",
       "14             182.0              C.  X2D-X2             183.0   \n",
       "\n",
       "              answer4 keys  \n",
       "0               D.  4    C  \n",
       "1            D.  10 %    D  \n",
       "2   D.  12v t1+vt2-t1    D  \n",
       "3    D. acceleration.    A  \n",
       "4            D. 320 m    C  \n",
       "5          D.  200 kg    B  \n",
       "6                D. 8    D  \n",
       "7        D.  10 m s−1    A  \n",
       "8         D.  273+Pmc    C  \n",
       "9            D. 300 K    D  \n",
       "10    D. cg > cs > cl    D  \n",
       "11             D.   6    C  \n",
       "12          D.  5W R2    D  \n",
       "13             D.  4g    C  \n",
       "14           D.  XD-X    C  "
      ]
     },
     "execution_count": 5,
     "metadata": {},
     "output_type": "execute_result"
    }
   ],
   "source": [
    "df"
   ]
  },
  {
   "cell_type": "markdown",
   "id": "a7c1325b-552a-4f43-92ad-0cc4fa561182",
   "metadata": {
    "jp-MarkdownHeadingCollapsed": true,
    "tags": []
   },
   "source": [
    "## Generate Question List"
   ]
  },
  {
   "cell_type": "code",
   "execution_count": 6,
   "id": "9a24fe4b-1b96-43d6-8aa1-110776781b5a",
   "metadata": {},
   "outputs": [],
   "source": [
    "Questions = list(df['question_line_nbr'])"
   ]
  },
  {
   "cell_type": "code",
   "execution_count": 7,
   "id": "8b758a6e-9af7-47d1-98c3-098d8de6cf7a",
   "metadata": {},
   "outputs": [
    {
     "data": {
      "text/plain": [
       "[20, 31, 54, 60, 68, 86, 98, 107, 120, 126, 133, 144, 163, 172, 177]"
      ]
     },
     "execution_count": 7,
     "metadata": {},
     "output_type": "execute_result"
    }
   ],
   "source": [
    "Questions"
   ]
  },
  {
   "cell_type": "markdown",
   "id": "970f241a-afe8-4c4f-82ef-df64c404ba7b",
   "metadata": {
    "jp-MarkdownHeadingCollapsed": true,
    "tags": []
   },
   "source": [
    "## Generate Answers List"
   ]
  },
  {
   "cell_type": "code",
   "execution_count": 8,
   "id": "faf32e2e-ff25-4983-989c-1c324be3b25f",
   "metadata": {},
   "outputs": [],
   "source": [
    "Answers = df[['answer1_line_nbr', 'answer2_line_nbr', 'answer3_line_nbr','answer4_line_nbr']].astype(int).values.tolist()"
   ]
  },
  {
   "cell_type": "code",
   "execution_count": 9,
   "id": "b77e6d86-25aa-49a5-8a42-115da0f85605",
   "metadata": {},
   "outputs": [
    {
     "data": {
      "text/plain": [
       "[[26, 27, 28, 29],\n",
       " [32, 33, 34, 35],\n",
       " [56, 57, 58, 59],\n",
       " [63, 64, 65, 66],\n",
       " [70, 71, 72, 73],\n",
       " [88, 89, 90, 91],\n",
       " [101, 102, 103, 104],\n",
       " [114, 115, 116, 117],\n",
       " [121, 122, 123, 124],\n",
       " [128, 129, 130, 131],\n",
       " [136, 137, 138, 139],\n",
       " [147, 148, 149, 150],\n",
       " [167, 168, 169, 170],\n",
       " [173, 174, 175, 176],\n",
       " [180, 181, 182, 183]]"
      ]
     },
     "execution_count": 9,
     "metadata": {},
     "output_type": "execute_result"
    }
   ],
   "source": [
    "Answers"
   ]
  },
  {
   "cell_type": "markdown",
   "id": "87746ae1-b8c4-424d-ac3e-a0023a4bb2dc",
   "metadata": {
    "jp-MarkdownHeadingCollapsed": true,
    "tags": []
   },
   "source": [
    "## Generate Keys List"
   ]
  },
  {
   "cell_type": "code",
   "execution_count": 28,
   "id": "28db2ee0-cc8e-4924-a234-aeb5223fa184",
   "metadata": {},
   "outputs": [
    {
     "data": {
      "text/plain": [
       "['C', 'D', 'D', 'A', 'C', 'B', 'D', 'A', 'C', 'D', 'D', 'C', 'D', 'C', 'C']"
      ]
     },
     "execution_count": 28,
     "metadata": {},
     "output_type": "execute_result"
    }
   ],
   "source": [
    "list(df['keys'])"
   ]
  },
  {
   "cell_type": "code",
   "execution_count": null,
   "id": "51d3be7e-4605-4a7f-be28-1756920ed13f",
   "metadata": {},
   "outputs": [],
   "source": [
    "# Construct dict to convert ABCD to 0123\n",
    "abcd_to_0123 = {'A':0, 'B':1, 'C':2, 'D':3}\n",
    "\n",
    "keys = []\n",
    "for i, key in enumerate(list(df['keys'])):\n",
    "    n_key = abcd_to_0123[key]\n",
    "    ln_key = Answers[i][n_key]\n",
    "    keys.append(ln_key)"
   ]
  },
  {
   "cell_type": "code",
   "execution_count": 11,
   "id": "c266ea68-eb05-45b9-ba92-e8495506b1d9",
   "metadata": {},
   "outputs": [
    {
     "data": {
      "text/plain": [
       "[28, 35, 59, 63, 72, 89, 104, 114, 123, 131, 139, 149, 170, 175, 182]"
      ]
     },
     "execution_count": 11,
     "metadata": {},
     "output_type": "execute_result"
    }
   ],
   "source": [
    "keys"
   ]
  },
  {
   "cell_type": "markdown",
   "id": "45c2ffc8-e9b5-43a9-abf6-2e097dcf79e7",
   "metadata": {},
   "source": [
    "## Shuffle Answers"
   ]
  },
  {
   "cell_type": "code",
   "execution_count": 18,
   "id": "2b8ae8d9-4910-4350-ad32-e9729d0c0dbb",
   "metadata": {},
   "outputs": [],
   "source": [
    "for answers in Answers:\n",
    "     random.shuffle(answers)"
   ]
  },
  {
   "cell_type": "code",
   "execution_count": 17,
   "id": "e35e6f93-ac60-40ac-82e5-5b6b6293a430",
   "metadata": {},
   "outputs": [
    {
     "data": {
      "text/plain": [
       "[[27, 26, 28, 29],\n",
       " [34, 35, 32, 33],\n",
       " [56, 57, 58, 59],\n",
       " [64, 63, 66, 65],\n",
       " [70, 71, 73, 72],\n",
       " [89, 88, 90, 91],\n",
       " [101, 104, 103, 102],\n",
       " [114, 116, 115, 117],\n",
       " [122, 124, 121, 123],\n",
       " [130, 131, 129, 128],\n",
       " [136, 137, 138, 139],\n",
       " [147, 150, 148, 149],\n",
       " [169, 170, 167, 168],\n",
       " [176, 174, 173, 175],\n",
       " [182, 181, 183, 180]]"
      ]
     },
     "execution_count": 19,
     "metadata": {},
     "output_type": "execute_result"
    }
   ],
   "source": [
    "Answers"
   ]
  },
  {
   "cell_type": "markdown",
   "id": "f381e1eb-1ac9-4c69-a03d-35a8f4ac0d8a",
   "metadata": {},
   "source": [
    "## Assign new keys"
   ]
  },
  {
   "cell_type": "markdown",
   "id": "265164b9-5e3c-4360-abe6-bc96cfec0aaa",
   "metadata": {},
   "source": [
    "### Position of the new key after shuffle"
   ]
  },
  {
   "cell_type": "code",
   "execution_count": 23,
   "id": "aeed0bd0-62ef-4e0e-a36b-84b6ea962a06",
   "metadata": {},
   "outputs": [],
   "source": [
    "newkeys = []\n",
    "for i, answers in enumerate(Answers):\n",
    "    n_newkey = answers.index(keys[i])\n",
    "    newkey = list(abcd_to_0123.keys())[list(abcd_to_0123.values()).index(n_newkey)]\n",
    "    newkeys.append(newkey)"
   ]
  },
  {
   "cell_type": "code",
   "execution_count": 24,
   "id": "f53535df-bce1-487a-84cc-381b1b769045",
   "metadata": {},
   "outputs": [
    {
     "data": {
      "text/plain": [
       "['C', 'B', 'D', 'B', 'D', 'A', 'B', 'A', 'D', 'B', 'D', 'D', 'B', 'D', 'A']"
      ]
     },
     "execution_count": 24,
     "metadata": {},
     "output_type": "execute_result"
    }
   ],
   "source": [
    "newkeys"
   ]
  },
  {
   "cell_type": "markdown",
   "id": "c437c170-7102-4855-ad8a-2866ae3adbb0",
   "metadata": {},
   "source": [
    "## Construct new dataframe"
   ]
  },
  {
   "cell_type": "code",
   "execution_count": 42,
   "id": "ba9dabaa-0d57-4b8f-a4d6-0af94ab86fc7",
   "metadata": {},
   "outputs": [],
   "source": [
    "# copy original data to new dataframe\n",
    "df_new = df.copy()\n",
    "\n",
    "# drop answers column we only need line numbers\n",
    "df_new.drop(['answer1','answer2','answer3','answer4'], axis=1, inplace=True)"
   ]
  },
  {
   "cell_type": "markdown",
   "id": "38f66e82-b0d4-4c8f-9c26-1e3a5cfd83be",
   "metadata": {},
   "source": [
    "### Assign new answers and keys"
   ]
  },
  {
   "cell_type": "code",
   "execution_count": 44,
   "id": "ed81b214-fe22-435e-b43a-8546cb1216eb",
   "metadata": {},
   "outputs": [],
   "source": [
    "# get list of answer1, 2, 3, 4 from the new answers \n",
    "ln_answer1=[]\n",
    "ln_answer2=[]\n",
    "ln_answer3=[]\n",
    "ln_answer4=[]\n",
    "\n",
    "for answer in Answers:\n",
    "    ln_answer1.append(answer[0])\n",
    "    ln_answer2.append(answer[1])\n",
    "    ln_answer3.append(answer[2])\n",
    "    ln_answer4.append(answer[3])"
   ]
  },
  {
   "cell_type": "code",
   "execution_count": 47,
   "id": "ce1f2207-cfe7-44ec-98cf-761ec51c5eb7",
   "metadata": {},
   "outputs": [],
   "source": [
    "# Assign the new line numbers of the answers to the columns\n",
    "df_new['answer1_line_nbr'] = ln_answer1\n",
    "df_new['answer2_line_nbr'] = ln_answer2\n",
    "df_new['answer3_line_nbr'] = ln_answer3\n",
    "df_new['answer4_line_nbr'] = ln_answer4\n",
    "\n",
    "# Assign the new keys the columns\n",
    "df_new['keys'] = newkeys"
   ]
  },
  {
   "cell_type": "markdown",
   "id": "39cc98a1-7f93-4b42-8f3a-2519f2f0b8b7",
   "metadata": {},
   "source": [
    "## Save"
   ]
  },
  {
   "cell_type": "code",
   "execution_count": 48,
   "id": "15929c56-5ccc-4e0c-ac2c-13a5d9bda11b",
   "metadata": {},
   "outputs": [
    {
     "data": {
      "text/html": [
       "<div>\n",
       "<style scoped>\n",
       "    .dataframe tbody tr th:only-of-type {\n",
       "        vertical-align: middle;\n",
       "    }\n",
       "\n",
       "    .dataframe tbody tr th {\n",
       "        vertical-align: top;\n",
       "    }\n",
       "\n",
       "    .dataframe thead th {\n",
       "        text-align: right;\n",
       "    }\n",
       "</style>\n",
       "<table border=\"1\" class=\"dataframe\">\n",
       "  <thead>\n",
       "    <tr style=\"text-align: right;\">\n",
       "      <th></th>\n",
       "      <th>question_line_nbr</th>\n",
       "      <th>question</th>\n",
       "      <th>answer1_line_nbr</th>\n",
       "      <th>answer2_line_nbr</th>\n",
       "      <th>answer3_line_nbr</th>\n",
       "      <th>answer4_line_nbr</th>\n",
       "      <th>keys</th>\n",
       "    </tr>\n",
       "  </thead>\n",
       "  <tbody>\n",
       "    <tr>\n",
       "      <th>0</th>\n",
       "      <td>20</td>\n",
       "      <td>1. A list of four physical quantities is</td>\n",
       "      <td>27</td>\n",
       "      <td>26</td>\n",
       "      <td>28</td>\n",
       "      <td>29</td>\n",
       "      <td>C</td>\n",
       "    </tr>\n",
       "    <tr>\n",
       "      <th>1</th>\n",
       "      <td>31</td>\n",
       "      <td>2.  The uncertainty in reading a laboratory th...</td>\n",
       "      <td>34</td>\n",
       "      <td>35</td>\n",
       "      <td>32</td>\n",
       "      <td>33</td>\n",
       "      <td>B</td>\n",
       "    </tr>\n",
       "    <tr>\n",
       "      <th>2</th>\n",
       "      <td>54</td>\n",
       "      <td>7.  A car accelerates uniformly from rest to a...</td>\n",
       "      <td>56</td>\n",
       "      <td>57</td>\n",
       "      <td>58</td>\n",
       "      <td>59</td>\n",
       "      <td>D</td>\n",
       "    </tr>\n",
       "    <tr>\n",
       "      <th>3</th>\n",
       "      <td>60</td>\n",
       "      <td>8.  The graph below shows how velocity v varie...</td>\n",
       "      <td>64</td>\n",
       "      <td>63</td>\n",
       "      <td>66</td>\n",
       "      <td>65</td>\n",
       "      <td>B</td>\n",
       "    </tr>\n",
       "    <tr>\n",
       "      <th>4</th>\n",
       "      <td>68</td>\n",
       "      <td>9.  A boy throws a ball horizontally at a spee...</td>\n",
       "      <td>70</td>\n",
       "      <td>71</td>\n",
       "      <td>73</td>\n",
       "      <td>72</td>\n",
       "      <td>D</td>\n",
       "    </tr>\n",
       "    <tr>\n",
       "      <th>5</th>\n",
       "      <td>86</td>\n",
       "      <td>12. An object is pushed from rest by a constan...</td>\n",
       "      <td>89</td>\n",
       "      <td>88</td>\n",
       "      <td>90</td>\n",
       "      <td>91</td>\n",
       "      <td>A</td>\n",
       "    </tr>\n",
       "    <tr>\n",
       "      <th>6</th>\n",
       "      <td>98</td>\n",
       "      <td>14. Object A of mass m is lifted through a hei...</td>\n",
       "      <td>101</td>\n",
       "      <td>104</td>\n",
       "      <td>103</td>\n",
       "      <td>102</td>\n",
       "      <td>B</td>\n",
       "    </tr>\n",
       "    <tr>\n",
       "      <th>7</th>\n",
       "      <td>107</td>\n",
       "      <td>15. Two trolleys of equal mass travel in oppos...</td>\n",
       "      <td>114</td>\n",
       "      <td>116</td>\n",
       "      <td>115</td>\n",
       "      <td>117</td>\n",
       "      <td>A</td>\n",
       "    </tr>\n",
       "    <tr>\n",
       "      <th>8</th>\n",
       "      <td>120</td>\n",
       "      <td>16. A mass m of a liquid of specific heat capa...</td>\n",
       "      <td>122</td>\n",
       "      <td>124</td>\n",
       "      <td>121</td>\n",
       "      <td>123</td>\n",
       "      <td>D</td>\n",
       "    </tr>\n",
       "    <tr>\n",
       "      <th>9</th>\n",
       "      <td>126</td>\n",
       "      <td>17. When 40 kJ of energy is transferred to a q...</td>\n",
       "      <td>130</td>\n",
       "      <td>131</td>\n",
       "      <td>129</td>\n",
       "      <td>128</td>\n",
       "      <td>B</td>\n",
       "    </tr>\n",
       "    <tr>\n",
       "      <th>10</th>\n",
       "      <td>133</td>\n",
       "      <td>18. Energy is supplied at a constant rate to a...</td>\n",
       "      <td>136</td>\n",
       "      <td>137</td>\n",
       "      <td>138</td>\n",
       "      <td>139</td>\n",
       "      <td>D</td>\n",
       "    </tr>\n",
       "    <tr>\n",
       "      <th>11</th>\n",
       "      <td>144</td>\n",
       "      <td>20. Two identical containers X and Y each cont...</td>\n",
       "      <td>147</td>\n",
       "      <td>150</td>\n",
       "      <td>148</td>\n",
       "      <td>149</td>\n",
       "      <td>D</td>\n",
       "    </tr>\n",
       "    <tr>\n",
       "      <th>12</th>\n",
       "      <td>163</td>\n",
       "      <td>23. A small ball of weight W is attached to a ...</td>\n",
       "      <td>169</td>\n",
       "      <td>170</td>\n",
       "      <td>167</td>\n",
       "      <td>168</td>\n",
       "      <td>B</td>\n",
       "    </tr>\n",
       "    <tr>\n",
       "      <th>13</th>\n",
       "      <td>172</td>\n",
       "      <td>24. The gravitational field strength at the su...</td>\n",
       "      <td>176</td>\n",
       "      <td>174</td>\n",
       "      <td>173</td>\n",
       "      <td>175</td>\n",
       "      <td>D</td>\n",
       "    </tr>\n",
       "    <tr>\n",
       "      <th>14</th>\n",
       "      <td>177</td>\n",
       "      <td>25. The centre of the Earth is separated from ...</td>\n",
       "      <td>182</td>\n",
       "      <td>181</td>\n",
       "      <td>183</td>\n",
       "      <td>180</td>\n",
       "      <td>A</td>\n",
       "    </tr>\n",
       "  </tbody>\n",
       "</table>\n",
       "</div>"
      ],
      "text/plain": [
       "    question_line_nbr                                           question  \\\n",
       "0                  20           1. A list of four physical quantities is   \n",
       "1                  31  2.  The uncertainty in reading a laboratory th...   \n",
       "2                  54  7.  A car accelerates uniformly from rest to a...   \n",
       "3                  60  8.  The graph below shows how velocity v varie...   \n",
       "4                  68  9.  A boy throws a ball horizontally at a spee...   \n",
       "5                  86  12. An object is pushed from rest by a constan...   \n",
       "6                  98  14. Object A of mass m is lifted through a hei...   \n",
       "7                 107  15. Two trolleys of equal mass travel in oppos...   \n",
       "8                 120  16. A mass m of a liquid of specific heat capa...   \n",
       "9                 126  17. When 40 kJ of energy is transferred to a q...   \n",
       "10                133  18. Energy is supplied at a constant rate to a...   \n",
       "11                144  20. Two identical containers X and Y each cont...   \n",
       "12                163  23. A small ball of weight W is attached to a ...   \n",
       "13                172  24. The gravitational field strength at the su...   \n",
       "14                177  25. The centre of the Earth is separated from ...   \n",
       "\n",
       "    answer1_line_nbr  answer2_line_nbr  answer3_line_nbr  answer4_line_nbr  \\\n",
       "0                 27                26                28                29   \n",
       "1                 34                35                32                33   \n",
       "2                 56                57                58                59   \n",
       "3                 64                63                66                65   \n",
       "4                 70                71                73                72   \n",
       "5                 89                88                90                91   \n",
       "6                101               104               103               102   \n",
       "7                114               116               115               117   \n",
       "8                122               124               121               123   \n",
       "9                130               131               129               128   \n",
       "10               136               137               138               139   \n",
       "11               147               150               148               149   \n",
       "12               169               170               167               168   \n",
       "13               176               174               173               175   \n",
       "14               182               181               183               180   \n",
       "\n",
       "   keys  \n",
       "0     C  \n",
       "1     B  \n",
       "2     D  \n",
       "3     B  \n",
       "4     D  \n",
       "5     A  \n",
       "6     B  \n",
       "7     A  \n",
       "8     D  \n",
       "9     B  \n",
       "10    D  \n",
       "11    D  \n",
       "12    B  \n",
       "13    D  \n",
       "14    A  "
      ]
     },
     "execution_count": 48,
     "metadata": {},
     "output_type": "execute_result"
    }
   ],
   "source": [
    "df_new"
   ]
  },
  {
   "cell_type": "code",
   "execution_count": 49,
   "id": "294ba2a2-4bfb-47dd-bab5-7d6280dd548e",
   "metadata": {},
   "outputs": [],
   "source": [
    "df_new.to_csv('shuffled.csv',index=False)"
   ]
  },
  {
   "cell_type": "code",
   "execution_count": null,
   "id": "a8302242-779f-47bf-8307-010583347bb0",
   "metadata": {},
   "outputs": [],
   "source": []
  }
 ],
 "metadata": {
  "kernelspec": {
   "display_name": "Python 3 (ipykernel)",
   "language": "python",
   "name": "python3"
  },
  "language_info": {
   "codemirror_mode": {
    "name": "ipython",
    "version": 3
   },
   "file_extension": ".py",
   "mimetype": "text/x-python",
   "name": "python",
   "nbconvert_exporter": "python",
   "pygments_lexer": "ipython3",
   "version": "3.9.13"
  }
 },
 "nbformat": 4,
 "nbformat_minor": 5
}
