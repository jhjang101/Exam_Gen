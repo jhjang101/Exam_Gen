{
 "cells": [
  {
   "cell_type": "markdown",
   "id": "9d479b3d-8fb4-4d49-b138-f88828db5a21",
   "metadata": {},
   "source": [
    "## Libraries"
   ]
  },
  {
   "cell_type": "code",
   "execution_count": 1,
   "id": "6be2a8bd-9530-4269-b492-f5751b5ccc6b",
   "metadata": {},
   "outputs": [],
   "source": [
    "from zipfile import ZipFile\n",
    "from bs4 import BeautifulSoup\n",
    "import unicodedata\n",
    "import re\n",
    "import pandas as pd\n",
    "import random"
   ]
  },
  {
   "cell_type": "markdown",
   "id": "0dae990c-b0d9-41ed-a3f0-db57c60a24b5",
   "metadata": {
    "tags": []
   },
   "source": [
    "## Functions"
   ]
  },
  {
   "cell_type": "markdown",
   "id": "c503c945-cf8d-41c0-989c-8b92a39759d7",
   "metadata": {
    "tags": []
   },
   "source": [
    "### Function to change xml unicode text to string"
   ]
  },
  {
   "cell_type": "code",
   "execution_count": 2,
   "id": "9114ee0f-8b22-47fd-b545-a056bc647d9f",
   "metadata": {},
   "outputs": [],
   "source": [
    "def UnicodeToString(paragraph):\n",
    "    \"\"\"\n",
    "    UnicodeToString nomarize unicode text to string\n",
    "    :paragraph: element of paragraphs\n",
    "    \"\"\"\n",
    "    line = paragraph.get_text()\n",
    "    text = unicodedata.normalize('NFKD', line)\n",
    "    return(text)"
   ]
  },
  {
   "cell_type": "markdown",
   "id": "1314f3d2-601d-4cc2-817e-a74c56ddfa14",
   "metadata": {
    "tags": []
   },
   "source": [
    "### Create Class Paragraph"
   ]
  },
  {
   "cell_type": "code",
   "execution_count": 3,
   "id": "6bb09f63-c729-4da6-a424-502ecc1c29e5",
   "metadata": {},
   "outputs": [],
   "source": [
    "class Paragraph:\n",
    "    \n",
    "    # Attribute constructor\n",
    "    def __init__(self, body):\n",
    "        self.list = body.find_all('w:p')\n",
    "    \n",
    "    \n",
    "    # Method\n",
    "    def last(self):\n",
    "        \"\"\"\n",
    "        last method returns the last paragraph index.\n",
    "        If there is answer key, it retures a paragraph index right before the answer key.\n",
    "        \"\"\"\n",
    "        last = len(self.list)-1    # last paragraph index\n",
    "        \n",
    "        # if first 10 charactors in the paragraph has 'FORM A KEY' save the line number-1 to last_line_nbr.\n",
    "        for i, p in enumerate(self.list):    \n",
    "            string = UnicodeToString(p)\n",
    "            if bool(re.search('FORM A KEY', string[:10])):\n",
    "                last = i-1\n",
    "        \n",
    "        return(last)\n",
    "    \n",
    "    \n",
    "    # Method\n",
    "    def get_questions(self, search='\\d+\\. ', size=4):\n",
    "        \"\"\"\n",
    "        get_questions method returns a Dictionary contains 'question_index' and 'question'.\n",
    "        \"\"\" \n",
    "        # construct empty dictionary 'questions'\n",
    "        questions = {'Q_index':[],'Q':[]}  \n",
    "        \n",
    "        for i, p in enumerate(self.list):\n",
    "            string = UnicodeToString(p)\n",
    "\n",
    "            # if first 4 charactors in the paragraph has 'number dot space' save it to questions dict.\n",
    "            if bool(re.search(search, string[:size])):\n",
    "                # print(i,string)\n",
    "                questions['Q_index'].append(i)\n",
    "                questions['Q'].append(string)\n",
    "        \n",
    "        return(pd.DataFrame(questions))\n",
    "    \n",
    "    \n",
    "    # Method\n",
    "    def get_answers(self, search='A\\. ', size=4):\n",
    "        \"\"\"\n",
    "        get_answers method returns a Dictionary contains 'answer_index' and 'answer'.\n",
    "        \"\"\" \n",
    "        # construct empty dictionary 'questions'\n",
    "        answers = {'answer_index':[],'answer':[]}  \n",
    "        \n",
    "        for i, p in enumerate(self.list):\n",
    "            string = UnicodeToString(p)\n",
    "\n",
    "            # if first 4 charactors in the paragraph has 'number dot space' save it to questions dict.\n",
    "            if bool(re.search(search, string[:size])):\n",
    "                # print(i,string)\n",
    "                answers['answer_index'].append(i)\n",
    "                answers['answer'].append(string)\n",
    "        \n",
    "        return(pd.DataFrame(answers))\n",
    "    \n",
    "    \n",
    "    # Method\n",
    "    def get_keys(self, search='FORM A KEY', size=10):\n",
    "        \"\"\"\n",
    "        get_keys method returns a Dictionary contains 'keys'.\n",
    "        \"\"\" \n",
    "        # construct empty dictionary 'keys'\n",
    "        keys = {'key_index':[],'key':[]}\n",
    "        \n",
    "        # if first 10 charactors in the paragraph has 'FORM A KEY' save the index to key_ln.\n",
    "        for i, p in enumerate(self.list):\n",
    "            string = UnicodeToString(p)\n",
    "            if bool(re.search(search, string[:size])):\n",
    "                # print(i,string)\n",
    "                key_ln = i+1\n",
    "        \n",
    "        # Save keys to keys dict.\n",
    "        last = len(self.list)-1    # last paragraph index\n",
    "        for i in range(key_ln,last):\n",
    "            p = self.list[i]\n",
    "            string = UnicodeToString(p)\n",
    "            keys['key_index'].append(i)\n",
    "            keys['key'].append(string)\n",
    "        \n",
    "        return(pd.DataFrame(keys))"
   ]
  },
  {
   "cell_type": "markdown",
   "id": "874aab2c-4692-4223-ad7c-7398dfa6b140",
   "metadata": {
    "tags": []
   },
   "source": [
    "### Function to append a index to dataframe"
   ]
  },
  {
   "cell_type": "code",
   "execution_count": 4,
   "id": "fc466d89-d19e-4b2e-b0d4-2ce87ce5e9b8",
   "metadata": {},
   "outputs": [],
   "source": [
    "def AppendIndex(questions, index):\n",
    "    \"\"\"\n",
    "    AppendIndex append a index to questions dataframe.\n",
    "    :questions: dataframe that contains column 'question_index'\n",
    "    :index: a number. usally paragraph index of EndOfQuestions\n",
    "    Appending EndOfQuestions index is important for combining questions and answers.\n",
    "    \"\"\"\n",
    "    df_index = pd.DataFrame({'Q_index':index}, index=[0])\n",
    "    df_append = pd.concat([questions,df_index],ignore_index=True)\n",
    "    return(df_append)"
   ]
  },
  {
   "cell_type": "markdown",
   "id": "91cea213-3987-4a22-8fcd-fe27b49949c0",
   "metadata": {},
   "source": [
    "### Function to combine Questions, Answers, and Keys"
   ]
  },
  {
   "cell_type": "code",
   "execution_count": 5,
   "id": "fc591c98-2f51-426f-9469-9c4323b24c2a",
   "metadata": {},
   "outputs": [],
   "source": [
    "def JoinQandA(df_q, df_a, df_b, df_c, df_d, df_keys):\n",
    "    \"\"\"\n",
    "    JoinQandA find answers and pair with respected question\n",
    "    :df: dataframe containing columns 'question_index' and 'question'\n",
    "    :df_a: dataframe containing columns 'answer_index' and 'answer'\n",
    "    \"\"\"\n",
    "\n",
    "    # construct empty dictionary 'questions'\n",
    "    df = pd.DataFrame(dict(Q_index=pd.Series([], dtype='Int64'), \n",
    "                         Q=pd.Series([], dtype='object'), \n",
    "                         A_index=pd.Series([], dtype='Int64'),\n",
    "                         A=pd.Series([], dtype='object'),\n",
    "                         B_index=pd.Series([], dtype='Int64'),\n",
    "                         B=pd.Series([], dtype='object'),\n",
    "                         C_index=pd.Series([], dtype='Int64'),\n",
    "                         C=pd.Series([], dtype='object'),\n",
    "                         D_index=pd.Series([], dtype='Int64'),\n",
    "                         D=pd.Series([], dtype='object'),\n",
    "                         key_index=pd.Series([], dtype='Int64'),\n",
    "                         keys=pd.Series([], dtype='object')\n",
    "                        ))\n",
    "    \n",
    "    ##########    for df_q    ##############\n",
    "    df['Q_index']=df_q['Q_index']\n",
    "    df['Q']=df_q['Q']\n",
    "    \n",
    "    # find answer index between two question index\n",
    "    for i in range(len(df_q)-1):\n",
    "        start=df['Q_index'][i] # search from question index\n",
    "        end=df['Q_index'][i+1] # search until the next question index\n",
    "             \n",
    "        ##########    for df_a    ##############\n",
    "        # return pd series containing A, and A_index for question \n",
    "        bool = df_a['answer_index'].between(start,end)\n",
    "        A_index = df_a[bool]['answer_index']\n",
    "        A = df_a[bool]['answer']\n",
    "        \n",
    "        # if there is A_index for the question append A_index to df\n",
    "        if A_index.empty==False:\n",
    "            df.loc[i,'A_index']=A_index.tolist()[0]\n",
    "        \n",
    "        # if there is A for the question append to A to df       \n",
    "        if A.empty==False:\n",
    "            df.loc[i,'A']=A.tolist()[0]\n",
    "    \n",
    "        ##########    for df_b    ##############        \n",
    "        # return pd series containing B, and B_index for question \n",
    "        bool = df_b['answer_index'].between(start,end)\n",
    "        B_index = df_b[bool]['answer_index']\n",
    "        B = df_b[bool]['answer']\n",
    "        \n",
    "        # if there is B_index for the question append B_index to df\n",
    "        if B_index.empty==False:\n",
    "            df.loc[i,'B_index']=B_index.tolist()[0]\n",
    "        \n",
    "        # if there is B for the question append to B to df       \n",
    "        if B.empty==False:\n",
    "            df.loc[i,'B']=B.tolist()[0]\n",
    "            \n",
    "        ##########    for df_c    ##############        \n",
    "        # return pd series containing C, and C_index for question \n",
    "        bool = df_c['answer_index'].between(start,end)\n",
    "        C_index = df_c[bool]['answer_index']\n",
    "        C = df_c[bool]['answer']\n",
    "        \n",
    "        # if there is C_index for the question append C_index to df\n",
    "        if C_index.empty==False:\n",
    "            df.loc[i,'C_index']=C_index.tolist()[0]\n",
    "        \n",
    "        # if there is C for the question append to C to df       \n",
    "        if C.empty==False:\n",
    "            df.loc[i,'C']=C.tolist()[0]\n",
    "            \n",
    "        ##########    for df_d    ##############        \n",
    "        # return pd series containing D, and D_index for question \n",
    "        bool = df_d['answer_index'].between(start,end)\n",
    "        D_index = df_d[bool]['answer_index']\n",
    "        D = df_d[bool]['answer']\n",
    "        \n",
    "        # if there is D_index for the question append D_index to df\n",
    "        if D_index.empty==False:\n",
    "            df.loc[i,'D_index']=D_index.tolist()[0]\n",
    "        \n",
    "        # if there is D for the question append to D to df       \n",
    "        if D.empty==False:\n",
    "            df.loc[i,'D']=D.tolist()[0]\n",
    "            \n",
    "        ##########    for df_keys    ##############\n",
    "        df['key_index']=df_keys['key_index']\n",
    "        df['keys']=df_keys['key']\n",
    "        \n",
    "    return(df)"
   ]
  },
  {
   "cell_type": "markdown",
   "id": "fea654af-824a-41e2-bf32-0e7831dfc5fd",
   "metadata": {},
   "source": [
    "### Function to convert keys to answer_index"
   ]
  },
  {
   "cell_type": "code",
   "execution_count": 6,
   "id": "7d4e746d-b77a-4066-9d47-d243ec22badd",
   "metadata": {},
   "outputs": [],
   "source": [
    "def KeysToAnswerIndex(keys, answer_index):\n",
    "    \"\"\"\n",
    "    KeysToAnswerIndex function convert alphabet keys to matching answer index.\n",
    "    :keys: list of keys. example [A,B,C]\n",
    "    :answer_index: nested list of answer index. example [[1,2,3,4],[5,6,7,8],[9,10,11,12]]\n",
    "    the example returns [1,6,11] \n",
    "    \"\"\"\n",
    "    # Construct dict to convert ABCD to 0123\n",
    "    abcd_to_0123 = {'A':0, 'B':1, 'C':2, 'D':3}\n",
    "    # convert ABCD keys to answer_index\n",
    "    key_answer_index = []\n",
    "    for i, key in enumerate(keys):\n",
    "        key_n = abcd_to_0123[key]    # convert ABCD keys to 1234 keys\n",
    "        key_index = answer_index[i][key_n]    # convert 1234 keys to keys\n",
    "        key_answer_index.append(key_index)\n",
    "    return(key_answer_index)"
   ]
  },
  {
   "cell_type": "markdown",
   "id": "c7282f32-d579-4124-a21d-27ec383c284b",
   "metadata": {},
   "source": [
    "### Function to convert keys to answer_index"
   ]
  },
  {
   "cell_type": "code",
   "execution_count": 7,
   "id": "fc633993-96e5-4e24-90cd-59e1632f5649",
   "metadata": {},
   "outputs": [],
   "source": [
    "def AnswerIndexToKeys(key_answer_index, answer_index):\n",
    "    \"\"\"\n",
    "    AnswerIndexToKeys function convert key answer to matching alphabet keys.\n",
    "    :key_answer_index: list of key answer index. example [1,6,11]\n",
    "    :answer_index: nested list of answer index. example [[1,2,3,4],[5,6,7,8],[9,10,11,12]]\n",
    "    the example returns [A,B,C] \n",
    "    \"\"\"\n",
    "    # Construct dict to convert 0123 to ABCD\n",
    "    num_to_ABCD = {0:'A', 1:'B', 2:'C', 3:'D'}\n",
    "    # convert answer_index to keys\n",
    "    newkeys = []\n",
    "    for i, index in enumerate(answer_index):\n",
    "        n_newkey = index.index(key_answer_index[i])\n",
    "        newkey = num_to_ABCD[n_newkey]\n",
    "        newkeys.append(newkey)\n",
    "    return(newkeys)"
   ]
  },
  {
   "cell_type": "markdown",
   "id": "7c9ab67e-3ef1-48eb-b443-6cc4fbd91d51",
   "metadata": {},
   "source": [
    "### Function to update paragraphs"
   ]
  },
  {
   "cell_type": "code",
   "execution_count": 8,
   "id": "af19daae-b255-45b0-beca-7cf76ff371ca",
   "metadata": {},
   "outputs": [],
   "source": [
    "def UpdateAnswers(col='A_index', newstring='A. '):\n",
    "    \"\"\"\n",
    "    UpdateAnswers function\n",
    "    1. get the new_answers_index from [paragraphs] and replace it to [new_paragraphs].\n",
    "    2. replace A. B. C. D. to correct order.\n",
    "    :col: string of column name. Ex. 'A_index'\n",
    "    :newstring: string of new start string Ex. 'A. '\n",
    "    \"\"\"\n",
    "    # Get list of original and new answer line\n",
    "    answer_index = df_to_shuffle[col].tolist()\n",
    "    new_answers_index = df_shuffled[col].tolist()\n",
    "    \n",
    "    # Replace answer_index to new_answers_index\n",
    "    for i, n in enumerate(new_answers_index):\n",
    "        new_paragraphs[answer_index[i]] = paragraphs[n]\n",
    "    \n",
    "    ### Replace A. B. C. D. to A. B. C. D.\n",
    "    for n in answer_index:\n",
    "        \n",
    "        # get the original start string. Ex. 'B. '\n",
    "        p = new_paragraphs[n].find('w:t')\n",
    "        string = UnicodeToString(p)\n",
    "        # print((unicodedata.normalize('NFKD', new_paragraphs[n].get_text())))\n",
    "        \n",
    "        # create new start string. Ex. 'A. ' \n",
    "        string_new = newstring + string[3:]\n",
    "        \n",
    "        # replace the original start string with new start string\n",
    "        p.string = string_new\n",
    "        # print(unicodedata.normalize('NFKD', new_paragraphs[n].get_text()))\n",
    "  \n",
    "    print('Successfully replaced paragraphs with',col,'and replaced to', newstring)"
   ]
  },
  {
   "cell_type": "markdown",
   "id": "f2228616-eaae-4114-b51d-0922890889da",
   "metadata": {},
   "source": [
    "### Function to copy file without document.xml"
   ]
  },
  {
   "cell_type": "code",
   "execution_count": 9,
   "id": "a9688b30-5a40-415f-8a84-e3d30f2f302a",
   "metadata": {},
   "outputs": [],
   "source": [
    "def CopyDocx(filein, fileout):\n",
    "    \"\"\"\n",
    "    CopyDocx creates a copy of the docx file without 'word/document.xml'    \n",
    "    :filein: string, original docx file name\n",
    "    :fileout: string, new docx file name\n",
    "    \"\"\"\n",
    "    with ZipFile(filein, 'r') as zipin:\n",
    "        with ZipFile(fileout, 'w') as zipout:\n",
    "            zipout.comment = zipin.comment # preserve the comment\n",
    "            for item in zipin.infolist():\n",
    "                if item.filename != 'word/document.xml':\n",
    "                    zipout.writestr(item, zipin.read(item.filename))\n",
    "    print(fileout,'is created')"
   ]
  },
  {
   "cell_type": "markdown",
   "id": "5a44ceb5-e38b-403b-911a-3566833eaca0",
   "metadata": {},
   "source": [
    "### Function to make a new dataframe including keys"
   ]
  },
  {
   "cell_type": "code",
   "execution_count": 10,
   "id": "59afc68e-f985-44ce-843a-48651ccc9056",
   "metadata": {},
   "outputs": [],
   "source": [
    "def KeyTable(df, df_shuffled):\n",
    "    \"\"\"\n",
    "    KeyTable create a dataframe with question number, original key, and new key\n",
    "    :df: dataframe containing original keys colume 'keys'\n",
    "    :df_shuffled: dataframe containing new keys colume 'keys'\n",
    "    \"\"\"    \n",
    "    # create list of question number in the docx\n",
    "    n_questions = list(range(1,len(df)))\n",
    "    # create dataframe containing question number column\n",
    "    df_keytable = pd.DataFrame({'Q': n_questions})\n",
    "    # add clumn containing original keys\n",
    "    df_keytable[filein+' keys'] = df['keys']\n",
    "    # add clumn containing new keys and add original key values\n",
    "    df_keytable[fileout+' keys'] = df['keys']  \n",
    "    # replace original key values to new key value for new key column\n",
    "    for i, row in df_shuffled.iterrows():\n",
    "        # print(i)\n",
    "        # print(df_new_keys.loc[i,fileout+' keys'])\n",
    "        # print(row['keys'])\n",
    "        # print()\n",
    "        df_keytable.loc[i,fileout+' keys'] = row['keys']\n",
    "    \n",
    "    return(df_keytable)"
   ]
  },
  {
   "cell_type": "markdown",
   "id": "59caa374-ed50-4612-a4fc-e3e5970e1373",
   "metadata": {
    "tags": []
   },
   "source": [
    "## Open and read docx"
   ]
  },
  {
   "cell_type": "code",
   "execution_count": 11,
   "id": "57d56327-ab02-4fe9-80f6-8565e1005997",
   "metadata": {},
   "outputs": [],
   "source": [
    "# filename\n",
    "filein = 'FORM A.docx'\n",
    "fileout = filein[:-5] + '_new' + filein[-5:]\n",
    "\n",
    "#open docx with zipfile\n",
    "with ZipFile(filein, 'r') as zip:\n",
    "    doc = zip.read('word/document.xml')\n",
    "    \n",
    "# parse xml \n",
    "soup = BeautifulSoup(doc, 'xml')\n",
    "\n",
    "# find body\n",
    "body = soup.find('body')\n",
    "\n",
    "# create Paragraph and save it to para\n",
    "para = Paragraph(body)\n",
    "\n",
    "# the last line number \n",
    "last_para_index = para.last()"
   ]
  },
  {
   "cell_type": "markdown",
   "id": "80ab7c9c-de7d-4e46-8d9c-30603dbfaf3e",
   "metadata": {},
   "source": [
    "## Extract Questions"
   ]
  },
  {
   "cell_type": "code",
   "execution_count": 12,
   "id": "ebea04e3-fb4f-4837-948e-9b72009d6121",
   "metadata": {},
   "outputs": [],
   "source": [
    "# run get_questions method to extract Questions from para and save to dataframe\n",
    "df_q = para.get_questions(search='\\d+\\. ', size=4)\n",
    "\n",
    "# run AppendIndex function to append the last_para_index to the dataframe.\n",
    "# it is needed for combining question and answer.\n",
    "df_q = AppendIndex(df_q, last_para_index)\n",
    "\n",
    "# print(df)"
   ]
  },
  {
   "cell_type": "markdown",
   "id": "7c8128b3-f0f4-4fbb-a14e-11483570871a",
   "metadata": {},
   "source": [
    "## Extract Answers"
   ]
  },
  {
   "cell_type": "code",
   "execution_count": 13,
   "id": "7edca6b8-34a5-4a5a-b692-2545e8efcfa4",
   "metadata": {},
   "outputs": [],
   "source": [
    "# run get_questions method to extract Questions from para and save to dataframe\n",
    "df_a = para.get_answers(search='A\\. ', size=4)\n",
    "df_b = para.get_answers(search='B\\. ', size=4)\n",
    "df_c = para.get_answers(search='C\\. ', size=4)\n",
    "df_d = para.get_answers(search='D\\. ', size=4)\n",
    "\n",
    "# print(df_a)\n",
    "# print(df_b)\n",
    "# print(df_c)\n",
    "# print(df_d)"
   ]
  },
  {
   "cell_type": "markdown",
   "id": "d635d0d6-aef4-4729-9d03-b1dd3704f988",
   "metadata": {},
   "source": [
    "## Extract Keys"
   ]
  },
  {
   "cell_type": "code",
   "execution_count": 14,
   "id": "ec4388ee-c308-49f6-9679-a5820e457809",
   "metadata": {},
   "outputs": [],
   "source": [
    "# run get_keyss method to extract Keys from para and save to dataframe\n",
    "searchstring = filein[:-5]+' KEY'\n",
    "df_keys = para.get_keys(search=searchstring, size=10)"
   ]
  },
  {
   "cell_type": "markdown",
   "id": "7b350266-7d8c-462c-b161-d18b4f01d5a0",
   "metadata": {},
   "source": [
    "## Combine Questions, Answers, Keys"
   ]
  },
  {
   "cell_type": "code",
   "execution_count": 15,
   "id": "2f015060-776c-40a6-82df-d48e856e20fc",
   "metadata": {},
   "outputs": [],
   "source": [
    "# dataframe including questions, answers, and keys\n",
    "df = JoinQandA(df_q, df_a, df_b, df_c, df_d, df_keys)"
   ]
  },
  {
   "cell_type": "code",
   "execution_count": 16,
   "id": "1ca51cf1-0f1e-4f1d-93fa-45346f5783b4",
   "metadata": {},
   "outputs": [],
   "source": [
    "# dataframe to shuffle\n",
    "df_to_shuffle= df.dropna()"
   ]
  },
  {
   "cell_type": "markdown",
   "id": "badf2855-ced0-435e-ac35-1bbc94815618",
   "metadata": {},
   "source": [
    "## Generate Answers Index"
   ]
  },
  {
   "cell_type": "code",
   "execution_count": 17,
   "id": "4706169b-d3bd-44d8-ab02-dd2c60078cb0",
   "metadata": {},
   "outputs": [],
   "source": [
    "col = ['A_index', 'B_index', 'C_index','D_index']\n",
    "answer_index = df_to_shuffle[col].values.tolist()"
   ]
  },
  {
   "cell_type": "markdown",
   "id": "bb1d569b-c59a-4d34-93d5-7540b81089fc",
   "metadata": {},
   "source": [
    "## Generate Keys Answer Index"
   ]
  },
  {
   "cell_type": "code",
   "execution_count": 18,
   "id": "8b0e1667-9ca3-4401-a227-05f5b8e09926",
   "metadata": {},
   "outputs": [],
   "source": [
    "# get keys column from df_to_shuffle\n",
    "keys = list(df_to_shuffle['keys'])\n",
    "\n",
    "# run KeysToIndex function to convert keys to answer_index\n",
    "key_answer_index = KeysToAnswerIndex(keys,answer_index)"
   ]
  },
  {
   "cell_type": "markdown",
   "id": "00bea8c6-a366-4354-bdbe-76d870402926",
   "metadata": {},
   "source": [
    "## Shuffle Answers Index"
   ]
  },
  {
   "cell_type": "code",
   "execution_count": 19,
   "id": "624a36e1-3955-45fd-ae2c-faa9dcd9fc0a",
   "metadata": {},
   "outputs": [
    {
     "data": {
      "text/plain": [
       "[[26, 27, 29, 28],\n",
       " [35, 33, 34, 32],\n",
       " [57, 59, 56, 58],\n",
       " [63, 65, 64, 66],\n",
       " [71, 72, 73, 70],\n",
       " [91, 88, 89, 90],\n",
       " [103, 102, 101, 104],\n",
       " [117, 116, 114, 115],\n",
       " [122, 121, 124, 123],\n",
       " [131, 128, 129, 130],\n",
       " [139, 138, 137, 136],\n",
       " [147, 149, 150, 148],\n",
       " [168, 169, 167, 170],\n",
       " [176, 175, 174, 173],\n",
       " [181, 180, 183, 182]]"
      ]
     },
     "execution_count": 19,
     "metadata": {},
     "output_type": "execute_result"
    }
   ],
   "source": [
    "for index in answer_index:\n",
    "     random.shuffle(index)\n",
    "answer_index"
   ]
  },
  {
   "cell_type": "markdown",
   "id": "62fe2fa0-ac09-4989-b007-9270156f9adf",
   "metadata": {},
   "source": [
    "## Assign new keys"
   ]
  },
  {
   "cell_type": "code",
   "execution_count": 20,
   "id": "8f339be1-b506-4a0c-8921-0a2a95092345",
   "metadata": {},
   "outputs": [],
   "source": [
    "# run AnswerIndexToKeys function to convert key_answer_index to newkeys\n",
    "newkeys = AnswerIndexToKeys(key_answer_index, answer_index)"
   ]
  },
  {
   "cell_type": "markdown",
   "id": "47061215-a519-43ea-9362-fe4baeccb304",
   "metadata": {},
   "source": [
    "## Construct new dataframe df_shuffled"
   ]
  },
  {
   "cell_type": "code",
   "execution_count": 21,
   "id": "a8a9f17f-4f7f-4b39-8e6b-a0c75a55fc10",
   "metadata": {},
   "outputs": [],
   "source": [
    "# copy original data to new dataframe\n",
    "df_shuffled = df_to_shuffle.copy()\n",
    "\n",
    "# we only need index columns\n",
    "df_shuffled.drop(['A','B','C','D'], axis=1, inplace=True)"
   ]
  },
  {
   "cell_type": "markdown",
   "id": "1d9ce128-fb17-49ba-b46a-7a59091bdd2b",
   "metadata": {},
   "source": [
    "## Assign new answers and keys"
   ]
  },
  {
   "cell_type": "code",
   "execution_count": 22,
   "id": "2e74880c-417e-405f-8fb9-1b81d39aa7b5",
   "metadata": {},
   "outputs": [],
   "source": [
    "# get list of A_index, B_index, C_index, and D_index from the shuffled answer_index \n",
    "A_index=[]\n",
    "B_index=[]\n",
    "C_index=[]\n",
    "D_index=[]\n",
    "\n",
    "for index in answer_index:\n",
    "    A_index.append(index[0])\n",
    "    B_index.append(index[1])\n",
    "    C_index.append(index[2])\n",
    "    D_index.append(index[3])\n",
    "    \n",
    "# Assign the new line numbers of the answers to the columns\n",
    "df_shuffled['A_index'] = A_index\n",
    "df_shuffled['B_index'] = B_index\n",
    "df_shuffled['C_index'] = C_index\n",
    "df_shuffled['D_index'] = D_index\n",
    "\n",
    "# Assign the new keys the columns\n",
    "df_shuffled['keys'] = newkeys"
   ]
  },
  {
   "cell_type": "markdown",
   "id": "18958e70-b334-444f-bb68-0cfb5ad08c4c",
   "metadata": {},
   "source": [
    "## Construct new_paragraphs with new answers"
   ]
  },
  {
   "cell_type": "code",
   "execution_count": 23,
   "id": "e94af142-c1a1-4b28-a852-1ba7d88d5c5d",
   "metadata": {},
   "outputs": [
    {
     "name": "stdout",
     "output_type": "stream",
     "text": [
      "Successfully replaced paragraphs with A_index and replaced to A. \n",
      "Successfully replaced paragraphs with B_index and replaced to B. \n",
      "Successfully replaced paragraphs with C_index and replaced to C. \n",
      "Successfully replaced paragraphs with D_index and replaced to D. \n"
     ]
    }
   ],
   "source": [
    "# list of paragraph from docx\n",
    "paragraphs = para.list\n",
    "new_paragraphs = paragraphs.copy()\n",
    "\n",
    "# run UpdateAnswers function to put paragraphs in correct name and order\n",
    "UpdateAnswers(col='A_index', newstring='A. ')\n",
    "UpdateAnswers(col='B_index', newstring='B. ')\n",
    "UpdateAnswers(col='C_index', newstring='C. ')\n",
    "UpdateAnswers(col='D_index', newstring='D. ')"
   ]
  },
  {
   "cell_type": "markdown",
   "id": "5ad7adf4-b901-4a68-b199-e60dcb6025e4",
   "metadata": {},
   "source": [
    "## Construct New XML"
   ]
  },
  {
   "cell_type": "code",
   "execution_count": 24,
   "id": "b9f52e1b-e030-4f6a-af61-6d31623f6abf",
   "metadata": {},
   "outputs": [],
   "source": [
    "# find a position of head from soup\n",
    "n_head = str(soup).find('<w:body>')+8\n",
    "\n",
    "# get string of xml head \n",
    "head = str(soup)[:n_head]\n",
    "\n",
    "# find a position of tail from soup\n",
    "n_tail = str(soup).find('</w:body>')\n",
    "tail = str(soup)[n_tail:]\n",
    "\n",
    "# slice new_paragraphs until right before keys section\n",
    "questions_section_list = new_paragraphs[:last_para_index]\n",
    "key_section_list = new_paragraphs[last_para_index:]\n",
    "\n",
    "# join the list and convert to str\n",
    "questions_section = ''.join(str(l) for l in questions_section_list)\n",
    "\n",
    "# remove any text from key_section_list\n",
    "for p in key_section_list:\n",
    "    text = p.find_all('w:t')\n",
    "    for tag in text:\n",
    "        tag.clear()\n",
    "    numlist = p.find_all('w:numPr')\n",
    "    for tag in numlist:\n",
    "        tag.clear()\n",
    "\n",
    "# convert key_section_list to str\n",
    "key_section = ''.join(str(l) for l in key_section_list)\n",
    "\n",
    "# create soup_new by joining head, questions_section, and tail\n",
    "soup_new =  head + questions_section + key_section + tail"
   ]
  },
  {
   "cell_type": "markdown",
   "id": "576bc8e5-0000-46b7-aa01-4cc86b287476",
   "metadata": {},
   "source": [
    "## Save the new xml to docx"
   ]
  },
  {
   "cell_type": "code",
   "execution_count": 25,
   "id": "7e6b25e1-63c8-4f19-b5cc-0aa25d95bcda",
   "metadata": {},
   "outputs": [
    {
     "name": "stdout",
     "output_type": "stream",
     "text": [
      "FORM A_new.docx is created\n",
      "word/document.xml is added to FORM A_new.docx\n"
     ]
    }
   ],
   "source": [
    "#run CopyDocx function to copy original docs file without 'word/document.xml'\n",
    "CopyDocx(filein, fileout)\n",
    "\n",
    "#add \"word/document.xml' containing soup_new\n",
    "with ZipFile(fileout, 'a') as newzip:\n",
    "    newzip.writestr('word/document.xml', soup_new)\n",
    "    print('word/document.xml', 'is added to', fileout)"
   ]
  },
  {
   "cell_type": "markdown",
   "id": "01d69327-3eec-46b3-bdf3-b281c1297263",
   "metadata": {},
   "source": [
    "## Save the keys to csv"
   ]
  },
  {
   "cell_type": "code",
   "execution_count": 26,
   "id": "49f2f805-eed3-40e4-aee4-f28581f245ae",
   "metadata": {},
   "outputs": [],
   "source": [
    "# run KeyTable function to create key table\n",
    "df_keytable = KeyTable(df, df_shuffled)\n",
    "\n",
    "# save key table to csv\n",
    "keyfilename = fileout[:-5] + '_key.csv'\n",
    "df_keytable.to_csv(keyfilename, index=False)"
   ]
  },
  {
   "cell_type": "code",
   "execution_count": null,
   "id": "0c9645b0-3c34-4801-a0d4-ae9c9dd950b8",
   "metadata": {},
   "outputs": [],
   "source": []
  }
 ],
 "metadata": {
  "kernelspec": {
   "display_name": "Python 3 (ipykernel)",
   "language": "python",
   "name": "python3"
  },
  "language_info": {
   "codemirror_mode": {
    "name": "ipython",
    "version": 3
   },
   "file_extension": ".py",
   "mimetype": "text/x-python",
   "name": "python",
   "nbconvert_exporter": "python",
   "pygments_lexer": "ipython3",
   "version": "3.9.13"
  }
 },
 "nbformat": 4,
 "nbformat_minor": 5
}
